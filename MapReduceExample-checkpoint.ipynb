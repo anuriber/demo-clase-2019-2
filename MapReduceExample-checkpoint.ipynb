{
 "cells": [
  {
   "cell_type": "code",
   "execution_count": 137,
   "metadata": {},
   "outputs": [],
   "source": [
    "!rm -rf input output\n",
    "!mkdir input"
   ]
  },
  {
   "cell_type": "code",
   "execution_count": 138,
   "metadata": {},
   "outputs": [
    {
     "name": "stdout",
     "output_type": "stream",
     "text": [
      "Writing input/transacciones.txt\n"
     ]
    }
   ],
   "source": [
    "%%writefile input/transacciones.txt\n",
    "1\t1\t1\t300\ta jumper\n",
    "2\t1\t2\t300\ta jumper\n",
    "3\t1\t2\t300\ta jumper\n",
    "4\t2\t3\t100\ta rubber chicken\n",
    "5\t1\t3\t300\ta jumper"
   ]
  },
  {
   "cell_type": "code",
   "execution_count": 139,
   "metadata": {},
   "outputs": [
    {
     "name": "stdout",
     "output_type": "stream",
     "text": [
      "Writing input/usuarios.txt\n"
     ]
    }
   ],
   "source": [
    "%%writefile input/usuarios.txt\n",
    "1\tmatthew@test.com\tEN\tUS\n",
    "2\tmatthew@test2.com\tEN\tGB\n",
    "3\tmatthew@test3.com\tFR\tFR"
   ]
  },
  {
   "cell_type": "code",
   "execution_count": 186,
   "metadata": {},
   "outputs": [
    {
     "name": "stdout",
     "output_type": "stream",
     "text": [
      "Overwriting joinMapperTU.py\n"
     ]
    }
   ],
   "source": [
    "%%writefile joinMapperTU.py\n",
    "#! /usr/bin/env python3.6\n",
    "import sys\n",
    "if __name__ == \"__main__\":\n",
    "\tfor line in sys.stdin:\n",
    "\t\t# Setting some defaults # por cada línea inicializo las variables siguientes\n",
    "\t\tuser_id = \"\"\n",
    "\t\tproduct_id = \"-\"\n",
    "\t\tlocation = \"-\"\n",
    "\t\tline = line.strip() # strip elimina los caracteres\n",
    "\t\tsplits = line.split(\"\\t\") # hace un split por tabulador, porque está separa así\n",
    "\t\t#print(\"line \" + len(splits) + ' :: ' + line)\n",
    "\t\t# verificando el numero de columnas sé si es de usuarios o transacciones\n",
    "\t\t#print(splits)\n",
    "\t\tif len(splits) != 4: #Archivo de transacciones Transactions have more columns than users\n",
    "\t\t\tuser_id = splits[2] # En la posición 3 está el ID del usuario\n",
    "\t\t\tproduct_id = splits[1] # En la posición 2 está el ID\n",
    "\t\telse: # este es el archivo de usuarios\n",
    "\t\t\tuser_id = splits[0] # en la posición 1 está el ID del usuario\n",
    "\t\t\tlocation = splits[3]  # aquí está el pais # solo me interesa cuantos productos por pais\n",
    "\t\tprint(user_id + '\\t' + product_id + '\\t' + location)"
   ]
  },
  {
   "cell_type": "code",
   "execution_count": 187,
   "metadata": {},
   "outputs": [],
   "source": [
    "!chmod +x joinMapperTU.py"
   ]
  },
  {
   "cell_type": "code",
   "execution_count": 188,
   "metadata": {},
   "outputs": [
    {
     "name": "stdout",
     "output_type": "stream",
     "text": [
      "1\t-\tUS\n",
      "1\t1\t-\n",
      "2\t-\tGB\n",
      "2\t1\t-\n",
      "2\t1\t-\n",
      "3\t-\tFR\n",
      "3\t1\t-\n",
      "3\t2\t-\n"
     ]
    }
   ],
   "source": [
    "!cat ./input/*.txt | ./joinMapperTU.py | sort"
   ]
  },
  {
   "cell_type": "code",
   "execution_count": 198,
   "metadata": {},
   "outputs": [
    {
     "name": "stdout",
     "output_type": "stream",
     "text": [
      "Overwriting joinReduceTU.py\n"
     ]
    }
   ],
   "source": [
    "%%writefile joinReduceTU.py\n",
    "#!/usr/bin/env python3.6\n",
    "import sys\n",
    "import string\n",
    "\n",
    "if __name__ == \"__main__\":\n",
    "\tlast_user_id = None\n",
    "\tcur_location = \"-\"\n",
    "\n",
    "\tfor line in sys.stdin:\n",
    "\t\tline = line.strip()\n",
    "\t\tuser_id,product_id,location = line.split(\"\\t\")\n",
    "\n",
    "\t\tif not last_user_id or last_user_id != user_id:\n",
    "\t\t\tlast_user_id = user_id\n",
    "\t\t\tcur_location = location\n",
    "\t\telif user_id == last_user_id:\n",
    "\t\t\tlocation = cur_location\n",
    "\t\t\tprint(location + '\\t' + product_id)"
   ]
  },
  {
   "cell_type": "code",
   "execution_count": 199,
   "metadata": {},
   "outputs": [],
   "source": [
    "!chmod +x joinReduceTU.py"
   ]
  },
  {
   "cell_type": "code",
   "execution_count": 200,
   "metadata": {},
   "outputs": [
    {
     "name": "stdout",
     "output_type": "stream",
     "text": [
      "FR\t1\n",
      "FR\t2\n",
      "GB\t1\n",
      "GB\t1\n",
      "US\t1\n"
     ]
    }
   ],
   "source": [
    "!cat ./input/*.txt | ./joinMapperTU.py | sort | ./joinReduceTU.py | sort"
   ]
  },
  {
   "cell_type": "code",
   "execution_count": 201,
   "metadata": {},
   "outputs": [
    {
     "name": "stdout",
     "output_type": "stream",
     "text": [
      "Overwriting reducer.py\n"
     ]
    }
   ],
   "source": [
    "%%writefile reducer.py\n",
    "#!/usr/bin/env python3.6\n",
    "\n",
    "import sys\n",
    "\n",
    "##\n",
    "## Esta funcion reduce los elementos que\n",
    "## tienen la misma clave\n",
    "##\n",
    "\n",
    "if __name__ == '__main__':\n",
    "\n",
    "    curkey = None\n",
    "    total = 0\n",
    "\n",
    "    ##\n",
    "    ## cada linea de texto recibida es una\n",
    "    ## entrada clave \\tabulador valor\n",
    "    ##\n",
    "    for line in sys.stdin:\n",
    "\n",
    "        key, val = line.split(\"\\t\")\n",
    "        val = int(val)\n",
    "\n",
    "        if key == curkey:\n",
    "            ##\n",
    "            ## No se ha cambiado de clave. Aca se\n",
    "            ## acumulan los valores para la misma clave.\n",
    "            ##\n",
    "            total += val\n",
    "        else:\n",
    "            ##\n",
    "            ## Se cambio de clave. Se reinicia el\n",
    "            ## acumulador.\n",
    "            ##\n",
    "            if curkey is not None:\n",
    "                ##\n",
    "                ## una vez se han reducido todos los elementos\n",
    "                ## con la misma clave se imprime el resultado en\n",
    "                ## el flujo de salida\n",
    "                ##\n",
    "                sys.stdout.write(\"{}\\t{}\\n\".format(curkey, total))\n",
    "\n",
    "            curkey = key\n",
    "            total = val"
   ]
  },
  {
   "cell_type": "code",
   "execution_count": 202,
   "metadata": {},
   "outputs": [],
   "source": [
    "## El archivo se hace ejecutable\n",
    "# +x es excecute\n",
    "!chmod +x reducer.py"
   ]
  },
  {
   "cell_type": "code",
   "execution_count": 204,
   "metadata": {},
   "outputs": [
    {
     "name": "stdout",
     "output_type": "stream",
     "text": [
      "FR\t3\n",
      "GB\t2\n"
     ]
    }
   ],
   "source": [
    "##\n",
    "## La función sort hace que todos los elementos con\n",
    "## la misma clave queden en lineas consecutivas.\n",
    "## Hace el papel del módulo Shuffle & Sort\n",
    "## Sort los ordena alfabeticamente\n",
    "!cat ./input/*.txt | ./joinMapperTU.py | sort | ./joinReduceTU.py | sort | ./reducer.py | head"
   ]
  },
  {
   "cell_type": "code",
   "execution_count": null,
   "metadata": {},
   "outputs": [],
   "source": []
  }
 ],
 "metadata": {
  "kernelspec": {
   "display_name": "Python 3",
   "language": "python",
   "name": "python3"
  },
  "language_info": {
   "codemirror_mode": {
    "name": "ipython",
    "version": 3
   },
   "file_extension": ".py",
   "mimetype": "text/x-python",
   "name": "python",
   "nbconvert_exporter": "python",
   "pygments_lexer": "ipython3",
   "version": "3.6.8"
  }
 },
 "nbformat": 4,
 "nbformat_minor": 4
}
